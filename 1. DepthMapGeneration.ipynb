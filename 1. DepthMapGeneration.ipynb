{
  "nbformat": 4,
  "nbformat_minor": 0,
  "metadata": {
    "colab": {
      "name": "DepthMap.ipynb",
      "provenance": []
    },
    "kernelspec": {
      "name": "python3",
      "display_name": "Python 3"
    },
    "language_info": {
      "name": "python"
    },
    "accelerator": "GPU"
  },
  "cells": [
    {
      "cell_type": "code",
      "metadata": {
        "colab": {
          "base_uri": "https://localhost:8080/"
        },
        "id": "o3hM_KAc8AOT",
        "outputId": "0fb87faa-fe5e-4675-cfc3-0155b9c9198f"
      },
      "source": [
        "from google.colab import drive\n",
        "drive.mount('/content/drive')"
      ],
      "execution_count": null,
      "outputs": [
        {
          "output_type": "stream",
          "text": [
            "Mounted at /content/drive\n"
          ],
          "name": "stdout"
        }
      ]
    },
    {
      "cell_type": "code",
      "metadata": {
        "colab": {
          "base_uri": "https://localhost:8080/"
        },
        "id": "CRB1tuEx8bdn",
        "outputId": "f0fa0ad5-e666-490a-c737-6df85a5f0e70"
      },
      "source": [
        "%cd /content/drive/My Drive/TCD Sem2/Augmented Reality/Project DepthMap/2dtodepth/ "
      ],
      "execution_count": null,
      "outputs": [
        {
          "output_type": "stream",
          "text": [
            "/content/drive/My Drive/TCD Sem2/Augmented Reality/Project DepthMap/2dtodepth\n"
          ],
          "name": "stdout"
        }
      ]
    },
    {
      "cell_type": "code",
      "metadata": {
        "colab": {
          "base_uri": "https://localhost:8080/"
        },
        "id": "RHjYlnj_8ztf",
        "outputId": "37fd1675-2204-4216-f630-47d0e7432cb7"
      },
      "source": [
        "!python 2dtodepth.py --input=single_view"
      ],
      "execution_count": null,
      "outputs": [
        {
          "output_type": "stream",
          "text": [
            "------------ Options -------------\n",
            "batchSize: 8\n",
            "beta1: 0.5\n",
            "checkpoints_dir: ./checkpoints/\n",
            "continue_train: False\n",
            "display_freq: 100\n",
            "display_id: 1\n",
            "display_winsize: 256\n",
            "fineSize: 256\n",
            "gpu_ids: [0, 1, 2, 3]\n",
            "human_data_term: 0\n",
            "identity: 0.0\n",
            "input: single_view\n",
            "isTrain: True\n",
            "lambda_A: 10.0\n",
            "lambda_B: 10.0\n",
            "loadSize: 286\n",
            "lr: 0.0004\n",
            "lr_decay_epoch: 8\n",
            "lr_policy: step\n",
            "max_dataset_size: inf\n",
            "mode: Ours_Bilinear\n",
            "model: pix2pix\n",
            "nThreads: 2\n",
            "name: test_local\n",
            "ndf: 64\n",
            "ngf: 64\n",
            "niter: 100\n",
            "niter_decay: 100\n",
            "no_flip: False\n",
            "no_html: False\n",
            "no_lsgan: False\n",
            "norm: instance\n",
            "output_nc: 3\n",
            "phase: train\n",
            "pool_size: 50\n",
            "print_freq: 100\n",
            "save_epoch_freq: 5\n",
            "save_latest_freq: 5000\n",
            "serial_batches: False\n",
            "simple_keypoints: 0\n",
            "use_dropout: False\n",
            "which_epoch: latest\n",
            "which_model_netG: unet_256\n",
            "-------------- End ----------------\n",
            "========================= Video dataset #images = 12 =========\n",
            "======================================  DIW NETWORK TRAIN FROM Ours_Bilinear=======================\n",
            "===================Loading Pretrained Model OURS ===================================\n",
            "./checkpoints/test_local/best_depth_Ours_Bilinear_inc_3_net_G.pth\n",
            "---------- Networks initialized -------------\n",
            "DataParallel(\n",
            "  (module): HourglassModel(\n",
            "    (seq): Sequential(\n",
            "      (0): Conv2d(3, 128, kernel_size=(7, 7), stride=(1, 1), padding=(3, 3))\n",
            "      (1): BatchNorm2d(128, eps=1e-05, momentum=0.1, affine=True, track_running_stats=True)\n",
            "      (2): ReLU(inplace=True)\n",
            "      (3): Channels4(\n",
            "        (list): ModuleList(\n",
            "          (0): Sequential(\n",
            "            (0): AvgPool2d(kernel_size=2, stride=2, padding=0)\n",
            "            (1): inception[[32], [3, 32, 32], [5, 32, 32], [7, 32, 32]]\n",
            "            (2): inception[[32], [3, 32, 32], [5, 32, 32], [7, 32, 32]]\n",
            "            (3): Channels3(\n",
            "              (list): ModuleList(\n",
            "                (0): Sequential(\n",
            "                  (0): AvgPool2d(kernel_size=2, stride=2, padding=0)\n",
            "                  (1): inception[[32], [3, 32, 32], [5, 32, 32], [7, 32, 32]]\n",
            "                  (2): inception[[64], [3, 32, 64], [5, 32, 64], [7, 32, 64]]\n",
            "                  (3): Channels2(\n",
            "                    (list): ModuleList(\n",
            "                      (0): Sequential(\n",
            "                        (0): inception[[64], [3, 32, 64], [5, 32, 64], [7, 32, 64]]\n",
            "                        (1): inception[[64], [3, 64, 64], [7, 64, 64], [11, 64, 64]]\n",
            "                      )\n",
            "                      (1): Sequential(\n",
            "                        (0): AvgPool2d(kernel_size=2, stride=2, padding=0)\n",
            "                        (1): inception[[64], [3, 32, 64], [5, 32, 64], [7, 32, 64]]\n",
            "                        (2): inception[[64], [3, 32, 64], [5, 32, 64], [7, 32, 64]]\n",
            "                        (3): Channels1(\n",
            "                          (list): ModuleList(\n",
            "                            (0): Sequential(\n",
            "                              (0): inception[[64], [3, 32, 64], [5, 32, 64], [7, 32, 64]]\n",
            "                              (1): inception[[64], [3, 32, 64], [5, 32, 64], [7, 32, 64]]\n",
            "                            )\n",
            "                            (1): Sequential(\n",
            "                              (0): AvgPool2d(kernel_size=2, stride=2, padding=0)\n",
            "                              (1): inception[[64], [3, 32, 64], [5, 32, 64], [7, 32, 64]]\n",
            "                              (2): inception[[64], [3, 32, 64], [5, 32, 64], [7, 32, 64]]\n",
            "                              (3): inception[[64], [3, 32, 64], [5, 32, 64], [7, 32, 64]]\n",
            "                              (4): UpsamplingBilinear2d(scale_factor=2.0, mode=bilinear)\n",
            "                            )\n",
            "                          )\n",
            "                        )\n",
            "                        (4): inception[[64], [3, 32, 64], [5, 32, 64], [7, 32, 64]]\n",
            "                        (5): inception[[64], [3, 64, 64], [7, 64, 64], [11, 64, 64]]\n",
            "                        (6): UpsamplingBilinear2d(scale_factor=2.0, mode=bilinear)\n",
            "                      )\n",
            "                    )\n",
            "                  )\n",
            "                  (4): inception[[64], [3, 32, 64], [5, 32, 64], [7, 32, 64]]\n",
            "                  (5): inception[[32], [3, 32, 32], [5, 32, 32], [7, 32, 32]]\n",
            "                  (6): UpsamplingBilinear2d(scale_factor=2.0, mode=bilinear)\n",
            "                )\n",
            "                (1): Sequential(\n",
            "                  (0): inception[[32], [3, 32, 32], [5, 32, 32], [7, 32, 32]]\n",
            "                  (1): inception[[32], [3, 64, 32], [7, 64, 32], [11, 64, 32]]\n",
            "                )\n",
            "              )\n",
            "            )\n",
            "            (4): inception[[32], [3, 64, 32], [5, 64, 32], [7, 64, 32]]\n",
            "            (5): inception[[16], [3, 32, 16], [7, 32, 16], [11, 32, 16]]\n",
            "            (6): UpsamplingBilinear2d(scale_factor=2.0, mode=bilinear)\n",
            "          )\n",
            "          (1): Sequential(\n",
            "            (0): inception[[16], [3, 64, 16], [7, 64, 16], [11, 64, 16]]\n",
            "          )\n",
            "        )\n",
            "      )\n",
            "    )\n",
            "    (uncertainty_layer): Sequential(\n",
            "      (0): Conv2d(64, 1, kernel_size=(3, 3), stride=(1, 1), padding=(1, 1))\n",
            "      (1): Sigmoid()\n",
            "    )\n",
            "    (pred_layer): Conv2d(64, 1, kernel_size=(3, 3), stride=(1, 1), padding=(1, 1))\n",
            "  )\n",
            ")\n",
            "Total number of parameters: 5357730\n",
            "-----------------------------------------------\n",
            "=================================  BEGIN VALIDATION =====================================\n",
            "TESTING ON VIDEO\n",
            "infile/bvOutside.jpg  --->  outfile/bvOutside.jpg\n",
            "infile/fvOutsideU.jpg  --->  outfile/fvOutsideU.jpg\n",
            "infile/fvOutside.jpg  --->  outfile/fvOutside.jpg\n",
            "infile/bvInside.jpg  --->  outfile/bvInside.jpg\n",
            "infile/fvInside.jpg  --->  outfile/fvInside.jpg\n",
            "infile/bvOutsideU.jpg  --->  outfile/bvOutsideU.jpg\n",
            "infile/rsvOutsideU.jpg  --->  outfile/rsvOutsideU.jpg\n",
            "infile/rsvOutside.jpg  --->  outfile/rsvOutside.jpg\n",
            "infile/rsvInside.jpg  --->  outfile/rsvInside.jpg\n",
            "infile/lvOutside.jpg  --->  outfile/lvOutside.jpg\n",
            "infile/lsvOutsideU.jpg  --->  outfile/lsvOutsideU.jpg\n",
            "infile/lsvInside.jpg  --->  outfile/lsvInside.jpg\n"
          ],
          "name": "stdout"
        }
      ]
    }
  ]
}